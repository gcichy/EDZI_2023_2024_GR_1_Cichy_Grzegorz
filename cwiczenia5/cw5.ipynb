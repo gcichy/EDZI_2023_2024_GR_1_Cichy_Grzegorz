{
 "cells": [
  {
   "cell_type": "code",
   "execution_count": 2,
   "metadata": {},
   "outputs": [],
   "source": [
    "import requests\n",
    "import json\n",
    "import pandas as pd\n",
    "import numpy as np\n"
   ]
  },
  {
   "cell_type": "code",
   "execution_count": 3,
   "metadata": {},
   "outputs": [
    {
     "name": "stdout",
     "output_type": "stream",
     "text": [
      "  id_stacji     stacja data_pomiaru godzina_pomiaru temperatura  \\\n",
      "0     12295  Białystok   2024-04-22              20         4.2   \n",
      "\n",
      "  predkosc_wiatru kierunek_wiatru wilgotnosc_wzgledna suma_opadu cisnienie  \n",
      "0               3             270                75.6        0.1    1020.1  \n"
     ]
    },
    {
     "data": {
      "text/html": [
       "<div>\n",
       "<style scoped>\n",
       "    .dataframe tbody tr th:only-of-type {\n",
       "        vertical-align: middle;\n",
       "    }\n",
       "\n",
       "    .dataframe tbody tr th {\n",
       "        vertical-align: top;\n",
       "    }\n",
       "\n",
       "    .dataframe thead th {\n",
       "        text-align: right;\n",
       "    }\n",
       "</style>\n",
       "<table border=\"1\" class=\"dataframe\">\n",
       "  <thead>\n",
       "    <tr style=\"text-align: right;\">\n",
       "      <th></th>\n",
       "      <th>id_stacji</th>\n",
       "      <th>stacja</th>\n",
       "      <th>data_pomiaru</th>\n",
       "      <th>godzina_pomiaru</th>\n",
       "      <th>temperatura</th>\n",
       "      <th>predkosc_wiatru</th>\n",
       "      <th>kierunek_wiatru</th>\n",
       "      <th>wilgotnosc_wzgledna</th>\n",
       "      <th>suma_opadu</th>\n",
       "      <th>cisnienie</th>\n",
       "    </tr>\n",
       "  </thead>\n",
       "  <tbody>\n",
       "    <tr>\n",
       "      <th>0</th>\n",
       "      <td>12295</td>\n",
       "      <td>Białystok</td>\n",
       "      <td>2024-04-22</td>\n",
       "      <td>20</td>\n",
       "      <td>4.2</td>\n",
       "      <td>3</td>\n",
       "      <td>270</td>\n",
       "      <td>75.6</td>\n",
       "      <td>0.1</td>\n",
       "      <td>1020.1</td>\n",
       "    </tr>\n",
       "    <tr>\n",
       "      <th>2</th>\n",
       "      <td>12155</td>\n",
       "      <td>Gdańsk</td>\n",
       "      <td>2024-04-22</td>\n",
       "      <td>20</td>\n",
       "      <td>1.4</td>\n",
       "      <td>2</td>\n",
       "      <td>300</td>\n",
       "      <td>91.0</td>\n",
       "      <td>0.4</td>\n",
       "      <td>1021.9</td>\n",
       "    </tr>\n",
       "    <tr>\n",
       "      <th>3</th>\n",
       "      <td>12300</td>\n",
       "      <td>Gorzów</td>\n",
       "      <td>2024-04-22</td>\n",
       "      <td>20</td>\n",
       "      <td>2.3</td>\n",
       "      <td>1</td>\n",
       "      <td>250</td>\n",
       "      <td>89.1</td>\n",
       "      <td>0</td>\n",
       "      <td>1023.6</td>\n",
       "    </tr>\n",
       "    <tr>\n",
       "      <th>4</th>\n",
       "      <td>12560</td>\n",
       "      <td>Katowice</td>\n",
       "      <td>2024-04-22</td>\n",
       "      <td>20</td>\n",
       "      <td>-0.2</td>\n",
       "      <td>1</td>\n",
       "      <td>360</td>\n",
       "      <td>80.7</td>\n",
       "      <td>0.4</td>\n",
       "      <td>1024.5</td>\n",
       "    </tr>\n",
       "    <tr>\n",
       "      <th>5</th>\n",
       "      <td>12570</td>\n",
       "      <td>Kielce</td>\n",
       "      <td>2024-04-22</td>\n",
       "      <td>20</td>\n",
       "      <td>0.3</td>\n",
       "      <td>1</td>\n",
       "      <td>200</td>\n",
       "      <td>87.0</td>\n",
       "      <td>1.2</td>\n",
       "      <td>1024.4</td>\n",
       "    </tr>\n",
       "    <tr>\n",
       "      <th>6</th>\n",
       "      <td>12566</td>\n",
       "      <td>Kraków</td>\n",
       "      <td>2024-04-22</td>\n",
       "      <td>20</td>\n",
       "      <td>3.2</td>\n",
       "      <td>2</td>\n",
       "      <td>30</td>\n",
       "      <td>72.7</td>\n",
       "      <td>2.9</td>\n",
       "      <td>1024</td>\n",
       "    </tr>\n",
       "    <tr>\n",
       "      <th>7</th>\n",
       "      <td>12495</td>\n",
       "      <td>Lublin</td>\n",
       "      <td>2024-04-22</td>\n",
       "      <td>20</td>\n",
       "      <td>2.4</td>\n",
       "      <td>3</td>\n",
       "      <td>270</td>\n",
       "      <td>77.0</td>\n",
       "      <td>0</td>\n",
       "      <td>1023.3</td>\n",
       "    </tr>\n",
       "    <tr>\n",
       "      <th>8</th>\n",
       "      <td>12465</td>\n",
       "      <td>Łódź</td>\n",
       "      <td>2024-04-22</td>\n",
       "      <td>20</td>\n",
       "      <td>1.8</td>\n",
       "      <td>2</td>\n",
       "      <td>220</td>\n",
       "      <td>73.0</td>\n",
       "      <td>0.3</td>\n",
       "      <td>1023.5</td>\n",
       "    </tr>\n",
       "    <tr>\n",
       "      <th>9</th>\n",
       "      <td>12272</td>\n",
       "      <td>Olsztyn</td>\n",
       "      <td>2024-04-22</td>\n",
       "      <td>20</td>\n",
       "      <td>1.3</td>\n",
       "      <td>2</td>\n",
       "      <td>280</td>\n",
       "      <td>95.0</td>\n",
       "      <td>0.01</td>\n",
       "      <td>1021.7</td>\n",
       "    </tr>\n",
       "    <tr>\n",
       "      <th>10</th>\n",
       "      <td>12530</td>\n",
       "      <td>Opole</td>\n",
       "      <td>2024-04-22</td>\n",
       "      <td>20</td>\n",
       "      <td>1.9</td>\n",
       "      <td>1</td>\n",
       "      <td>60</td>\n",
       "      <td>68.7</td>\n",
       "      <td>0.01</td>\n",
       "      <td>1024</td>\n",
       "    </tr>\n",
       "    <tr>\n",
       "      <th>11</th>\n",
       "      <td>12330</td>\n",
       "      <td>Poznań</td>\n",
       "      <td>2024-04-22</td>\n",
       "      <td>20</td>\n",
       "      <td>2.3</td>\n",
       "      <td>2</td>\n",
       "      <td>320</td>\n",
       "      <td>87.8</td>\n",
       "      <td>0</td>\n",
       "      <td>1023.3</td>\n",
       "    </tr>\n",
       "    <tr>\n",
       "      <th>12</th>\n",
       "      <td>12580</td>\n",
       "      <td>Rzeszów</td>\n",
       "      <td>2024-04-22</td>\n",
       "      <td>20</td>\n",
       "      <td>3.6</td>\n",
       "      <td>2</td>\n",
       "      <td>300</td>\n",
       "      <td>66.6</td>\n",
       "      <td>0.4</td>\n",
       "      <td>1023.8</td>\n",
       "    </tr>\n",
       "    <tr>\n",
       "      <th>13</th>\n",
       "      <td>12205</td>\n",
       "      <td>Szczecin</td>\n",
       "      <td>2024-04-22</td>\n",
       "      <td>20</td>\n",
       "      <td>3.5</td>\n",
       "      <td>1</td>\n",
       "      <td>50</td>\n",
       "      <td>66.6</td>\n",
       "      <td>0.4</td>\n",
       "      <td>1023.3</td>\n",
       "    </tr>\n",
       "    <tr>\n",
       "      <th>14</th>\n",
       "      <td>12250</td>\n",
       "      <td>Toruń</td>\n",
       "      <td>2024-04-22</td>\n",
       "      <td>20</td>\n",
       "      <td>3.2</td>\n",
       "      <td>1</td>\n",
       "      <td>290</td>\n",
       "      <td>64.5</td>\n",
       "      <td>0</td>\n",
       "      <td>1022.4</td>\n",
       "    </tr>\n",
       "    <tr>\n",
       "      <th>15</th>\n",
       "      <td>12375</td>\n",
       "      <td>Warszawa</td>\n",
       "      <td>2024-04-22</td>\n",
       "      <td>20</td>\n",
       "      <td>3.5</td>\n",
       "      <td>3</td>\n",
       "      <td>260</td>\n",
       "      <td>70.6</td>\n",
       "      <td>0.01</td>\n",
       "      <td>1022.3</td>\n",
       "    </tr>\n",
       "    <tr>\n",
       "      <th>16</th>\n",
       "      <td>12424</td>\n",
       "      <td>Wrocław</td>\n",
       "      <td>2024-04-22</td>\n",
       "      <td>20</td>\n",
       "      <td>-0.5</td>\n",
       "      <td>0</td>\n",
       "      <td>0</td>\n",
       "      <td>85.0</td>\n",
       "      <td>0</td>\n",
       "      <td>1024.2</td>\n",
       "    </tr>\n",
       "    <tr>\n",
       "      <th>17</th>\n",
       "      <td>12400</td>\n",
       "      <td>Zielona Góra</td>\n",
       "      <td>2024-04-22</td>\n",
       "      <td>20</td>\n",
       "      <td>1.5</td>\n",
       "      <td>0</td>\n",
       "      <td>0</td>\n",
       "      <td>87.7</td>\n",
       "      <td>0.01</td>\n",
       "      <td>1023.9</td>\n",
       "    </tr>\n",
       "  </tbody>\n",
       "</table>\n",
       "</div>"
      ],
      "text/plain": [
       "   id_stacji        stacja data_pomiaru godzina_pomiaru temperatura  \\\n",
       "0      12295     Białystok   2024-04-22              20         4.2   \n",
       "2      12155        Gdańsk   2024-04-22              20         1.4   \n",
       "3      12300        Gorzów   2024-04-22              20         2.3   \n",
       "4      12560      Katowice   2024-04-22              20        -0.2   \n",
       "5      12570        Kielce   2024-04-22              20         0.3   \n",
       "6      12566        Kraków   2024-04-22              20         3.2   \n",
       "7      12495        Lublin   2024-04-22              20         2.4   \n",
       "8      12465          Łódź   2024-04-22              20         1.8   \n",
       "9      12272       Olsztyn   2024-04-22              20         1.3   \n",
       "10     12530         Opole   2024-04-22              20         1.9   \n",
       "11     12330        Poznań   2024-04-22              20         2.3   \n",
       "12     12580       Rzeszów   2024-04-22              20         3.6   \n",
       "13     12205      Szczecin   2024-04-22              20         3.5   \n",
       "14     12250         Toruń   2024-04-22              20         3.2   \n",
       "15     12375      Warszawa   2024-04-22              20         3.5   \n",
       "16     12424       Wrocław   2024-04-22              20        -0.5   \n",
       "17     12400  Zielona Góra   2024-04-22              20         1.5   \n",
       "\n",
       "   predkosc_wiatru kierunek_wiatru wilgotnosc_wzgledna suma_opadu cisnienie  \n",
       "0                3             270                75.6        0.1    1020.1  \n",
       "2                2             300                91.0        0.4    1021.9  \n",
       "3                1             250                89.1          0    1023.6  \n",
       "4                1             360                80.7        0.4    1024.5  \n",
       "5                1             200                87.0        1.2    1024.4  \n",
       "6                2              30                72.7        2.9      1024  \n",
       "7                3             270                77.0          0    1023.3  \n",
       "8                2             220                73.0        0.3    1023.5  \n",
       "9                2             280                95.0       0.01    1021.7  \n",
       "10               1              60                68.7       0.01      1024  \n",
       "11               2             320                87.8          0    1023.3  \n",
       "12               2             300                66.6        0.4    1023.8  \n",
       "13               1              50                66.6        0.4    1023.3  \n",
       "14               1             290                64.5          0    1022.4  \n",
       "15               3             260                70.6       0.01    1022.3  \n",
       "16               0               0                85.0          0    1024.2  \n",
       "17               0               0                87.7       0.01    1023.9  "
      ]
     },
     "execution_count": 3,
     "metadata": {},
     "output_type": "execute_result"
    }
   ],
   "source": [
    "cities = ['bialystok','gdansk','gorzow','katowice','kielce','krakow','lublin','lodz','olsztyn','opole','poznan','rzeszow','szczecin','torun','warszawa','wroclaw','zielonagora']\n",
    "base_url = 'https://danepubliczne.imgw.pl/api/data/synop/station/'\n",
    "df = None\n",
    "i = 0\n",
    "for city in cities:\n",
    "    i+=1\n",
    "    url = base_url + city\n",
    "    response = requests.get(url)\n",
    "    row = json.loads(response.text)\n",
    "    if type(df) != pd.DataFrame:\n",
    "        df = pd.DataFrame(row,index=[0])\n",
    "        print(df)\n",
    "    else:\n",
    "        df = pd.concat([df,pd.DataFrame(row,index=[i])],axis=0)\n",
    "\n",
    "df"
   ]
  },
  {
   "cell_type": "code",
   "execution_count": 27,
   "metadata": {},
   "outputs": [],
   "source": [
    "df['temperatura'] = df['temperatura'].astype(float)\n",
    "df['suma_opadu'] = df['suma_opadu'].astype(float)\n",
    "df['cisnienie'] = df['cisnienie'].astype(float)"
   ]
  },
  {
   "cell_type": "code",
   "execution_count": 5,
   "metadata": {},
   "outputs": [
    {
     "name": "stdout",
     "output_type": "stream",
     "text": [
      "1.Średnia temperatura punktów pomiarowych\n",
      "Średnia temperatura: 2.1\n"
     ]
    }
   ],
   "source": [
    "print('1.Średnia temperatura punktów pomiarowych')\n",
    "print(f\"Średnia temperatura: {np.round(df['temperatura'].mean(),2)}\")\n"
   ]
  },
  {
   "cell_type": "code",
   "execution_count": 8,
   "metadata": {},
   "outputs": [
    {
     "name": "stdout",
     "output_type": "stream",
     "text": [
      "2. Mainimalna temperatura wraz z miejscem pomiaru\n",
      "Minimalna temperatura: Wrocław, -0.5\n"
     ]
    }
   ],
   "source": [
    "print('2. Mainimalna temperatura wraz z miejscem pomiaru')\n",
    "minim = df.loc[df['temperatura'].idxmin(),['temperatura','stacja']]\n",
    "print(f\"Minimalna temperatura: {minim['stacja']}, {minim['temperatura']}\")"
   ]
  },
  {
   "cell_type": "code",
   "execution_count": 7,
   "metadata": {},
   "outputs": [
    {
     "name": "stdout",
     "output_type": "stream",
     "text": [
      "3. Maksymalna temperatura wraz z miejscem pomiaru\n",
      "Minimalna temperatura: Białystok, 4.2\n"
     ]
    }
   ],
   "source": [
    "print('3. Maksymalna temperatura wraz z miejscem pomiaru')\n",
    "maxim = df.loc[df['temperatura'].idxmax(),['temperatura','stacja']]\n",
    "print(f\"Minimalna temperatura: {maxim['stacja']}, {maxim['temperatura']}\")"
   ]
  },
  {
   "cell_type": "code",
   "execution_count": 18,
   "metadata": {},
   "outputs": [
    {
     "name": "stdout",
     "output_type": "stream",
     "text": [
      "4. Data oraz godzina pomiaru\n",
      "2024-04-22 20\n"
     ]
    }
   ],
   "source": [
    "print('4. Data oraz godzina pomiaru')\n",
    "print(str(df.loc[0,'data_pomiaru']) + ' ' + str(df.loc[0,'godzina_pomiaru']))"
   ]
  },
  {
   "cell_type": "code",
   "execution_count": 22,
   "metadata": {},
   "outputs": [
    {
     "name": "stdout",
     "output_type": "stream",
     "text": [
      "5. Średnia wartość opadów\n"
     ]
    },
    {
     "data": {
      "text/plain": [
       "0.36"
      ]
     },
     "execution_count": 22,
     "metadata": {},
     "output_type": "execute_result"
    }
   ],
   "source": [
    "print('5. Średnia wartość opadów')\n",
    "np.round(df['suma_opadu'].mean(),2)"
   ]
  },
  {
   "cell_type": "code",
   "execution_count": 23,
   "metadata": {},
   "outputs": [
    {
     "name": "stdout",
     "output_type": "stream",
     "text": [
      "6. Minimalna wartość opadów wraz z miejscem pomiaru\n",
      "Minimalny opad: Gorzów, 0.0\n"
     ]
    }
   ],
   "source": [
    "print('6. Minimalna wartość opadów wraz z miejscem pomiaru')\n",
    "minim = df.loc[df['suma_opadu'].idxmin(),['suma_opadu','stacja']]\n",
    "print(f\"Minimalny opad: {minim['stacja']}, {minim['suma_opadu']}\")\n",
    "\n"
   ]
  },
  {
   "cell_type": "code",
   "execution_count": 25,
   "metadata": {},
   "outputs": [
    {
     "name": "stdout",
     "output_type": "stream",
     "text": [
      "7. Maksymalna wartość opadów wraz z miejscem pomiaru\n",
      "Maksymalny opad: Kraków, 2.9\n"
     ]
    }
   ],
   "source": [
    "print('7. Maksymalna wartość opadów wraz z miejscem pomiaru')\n",
    "maxim = df.loc[df['suma_opadu'].idxmax(),['suma_opadu','stacja']]\n",
    "print(f\"Maksymalny opad: {maxim['stacja']}, {maxim['suma_opadu']}\")\n"
   ]
  },
  {
   "cell_type": "code",
   "execution_count": 28,
   "metadata": {},
   "outputs": [
    {
     "name": "stdout",
     "output_type": "stream",
     "text": [
      "8. Średnia wartość ciśnienia\n"
     ]
    },
    {
     "data": {
      "text/plain": [
       "1023.19"
      ]
     },
     "execution_count": 28,
     "metadata": {},
     "output_type": "execute_result"
    }
   ],
   "source": [
    "print('8. Średnia wartość ciśnienia')\n",
    "np.round(df['cisnienie'].mean(),2)\n"
   ]
  },
  {
   "cell_type": "code",
   "execution_count": 29,
   "metadata": {},
   "outputs": [
    {
     "name": "stdout",
     "output_type": "stream",
     "text": [
      "Minimalny opad: Białystok, 1020.1\n"
     ]
    }
   ],
   "source": [
    "minim = df.loc[df['cisnienie'].idxmin(),['cisnienie','stacja']]\n",
    "print(f\"Minimalne cisnienie: {minim['stacja']}, {minim['cisnienie']}\")"
   ]
  },
  {
   "cell_type": "code",
   "execution_count": 30,
   "metadata": {},
   "outputs": [
    {
     "name": "stdout",
     "output_type": "stream",
     "text": [
      "Maksymalne cisnienie: Katowice, 1024.5\n"
     ]
    }
   ],
   "source": [
    "maxim = df.loc[df['cisnienie'].idxmax(),['cisnienie','stacja']]\n",
    "print(f\"Maksymalne cisnienie: {maxim['stacja']}, {maxim['cisnienie']}\")"
   ]
  },
  {
   "cell_type": "code",
   "execution_count": 33,
   "metadata": {},
   "outputs": [],
   "source": [
    "df.to_csv('dane_pogodowe.csv', encoding='ISO-8859-2')"
   ]
  },
  {
   "cell_type": "code",
   "execution_count": null,
   "metadata": {},
   "outputs": [],
   "source": []
  }
 ],
 "metadata": {
  "kernelspec": {
   "display_name": "Python 3",
   "language": "python",
   "name": "python3"
  },
  "language_info": {
   "codemirror_mode": {
    "name": "ipython",
    "version": 3
   },
   "file_extension": ".py",
   "mimetype": "text/x-python",
   "name": "python",
   "nbconvert_exporter": "python",
   "pygments_lexer": "ipython3",
   "version": "3.10.7"
  }
 },
 "nbformat": 4,
 "nbformat_minor": 2
}
